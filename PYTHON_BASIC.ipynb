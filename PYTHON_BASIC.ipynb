{
  "nbformat": 4,
  "nbformat_minor": 0,
  "metadata": {
    "colab": {
      "provenance": []
    },
    "kernelspec": {
      "name": "python3",
      "display_name": "Python 3"
    },
    "language_info": {
      "name": "python"
    }
  },
  "cells": [
    {
      "cell_type": "markdown",
      "source": [
        "PYTHON BASIC\n",
        "\n",
        "ANSWERS\n",
        "\n",
        "1.\n",
        "Python is a programming language.it is easy to use and known for its simplicity or readlity.its popular because it has extensive librariese,ease,web develepment.\n",
        "\n",
        "2.\n",
        "an intrpreter in python is a program that read & execute python codde line by line translate in runtime.\n",
        "\n",
        "3.\n",
        "pre-define keywords in python are reserved word that have special meanings or cannot used as variable.\n",
        "\n",
        "4.\n",
        "no.because they are reserved for specific functionality.\n",
        "\n",
        "5.\n",
        "mutability in python has ability to modifiy object after it is created.mutable objects can be changeable.\n",
        "\n",
        "6.\n",
        "list are mutable because they are design for dynamic changes like adding removing element.truple are immutable for performence & to ensure data integrity.\n",
        "\n",
        "7.\n",
        "== check the value of equality.is check for object identity.\n",
        "\n",
        "8.\n",
        "logical operators are AND, OR, NOT.\n",
        "\n",
        "9.\n",
        "Type casting in python to converting a variable from one data type to another data type....like int(),float(),str()...\n",
        "\n",
        "10.\n",
        "implicit type casting is automatic.explicit type casting is done manually.\n",
        "\n",
        "11.\n",
        "conditional statement control program flow based on conditions.\n",
        "\n",
        "12.\n",
        "elif checks another condition if the initial if is false.multiple elif can be chained.\n",
        "\n",
        "13.\n",
        "for loop itreate over sequence .while loop repeat based on aa condition being true.\n",
        "\n",
        "14.\n",
        "a while loop is more sutable when the number of iteration isn't known beforehand,like reading inpput until a certain condition is met."
      ],
      "metadata": {
        "id": "DE6vdB3xYz2Q"
      }
    },
    {
      "cell_type": "code",
      "execution_count": 1,
      "metadata": {
        "colab": {
          "base_uri": "https://localhost:8080/"
        },
        "id": "jR4983aRYpwX",
        "outputId": "4de22642-543d-4626-b5b0-aa3429064bdd"
      },
      "outputs": [
        {
          "output_type": "stream",
          "name": "stdout",
          "text": [
            "hello, world !\n"
          ]
        }
      ],
      "source": [
        "# 1.print \"hello, world !\"\n",
        "print(\"hello, world !\")"
      ]
    },
    {
      "cell_type": "code",
      "source": [
        "# 2. Display name and age\n",
        "name =\"chahat thakur\"\n",
        "age = 20\n",
        "print(name,age)"
      ],
      "metadata": {
        "colab": {
          "base_uri": "https://localhost:8080/"
        },
        "id": "LH-sr0algi-m",
        "outputId": "9031b88b-fb06-4819-ad06-53f6c80eab17"
      },
      "execution_count": 2,
      "outputs": [
        {
          "output_type": "stream",
          "name": "stdout",
          "text": [
            "chahat thakur 20\n"
          ]
        }
      ]
    },
    {
      "cell_type": "code",
      "source": [
        "# 3. print pre defined keyword\n",
        "import keyword\n",
        "print(keyword.kwlist)"
      ],
      "metadata": {
        "colab": {
          "base_uri": "https://localhost:8080/"
        },
        "id": "ZmxHC3F4hAnd",
        "outputId": "38f940a6-79ce-4ed0-baff-22c7af09fd9c"
      },
      "execution_count": 4,
      "outputs": [
        {
          "output_type": "stream",
          "name": "stdout",
          "text": [
            "['False', 'None', 'True', 'and', 'as', 'assert', 'async', 'await', 'break', 'class', 'continue', 'def', 'del', 'elif', 'else', 'except', 'finally', 'for', 'from', 'global', 'if', 'import', 'in', 'is', 'lambda', 'nonlocal', 'not', 'or', 'pass', 'raise', 'return', 'try', 'while', 'with', 'yield']\n"
          ]
        }
      ]
    },
    {
      "cell_type": "code",
      "source": [
        "# 4. check if word is a python keyword\n",
        "import keyword\n",
        "word =input(\"enter a word :\")\n",
        "if keyword.iskeyword(word):\n",
        "    print(f\"{word} is a python keyword\")\n",
        "else:\n",
        "    print(f\"{word} is not a python keyword\")\n"
      ],
      "metadata": {
        "colab": {
          "base_uri": "https://localhost:8080/"
        },
        "id": "Zgq3_mNTheXm",
        "outputId": "2b8e033a-fc27-4cf1-aec4-8221f2f79e6f"
      },
      "execution_count": 5,
      "outputs": [
        {
          "output_type": "stream",
          "name": "stdout",
          "text": [
            "enter a word :else\n",
            "else is a python keyword\n"
          ]
        }
      ]
    },
    {
      "cell_type": "code",
      "source": [
        "# 5.demonstrate mutability of list vs tuple\n",
        "my_list =[1,2,3,4]\n",
        "my_tuple =(1,2,3,4)\n",
        "my_list[0]=10\n",
        "print(my_list)\n",
        "print(my_tuple)\n"
      ],
      "metadata": {
        "colab": {
          "base_uri": "https://localhost:8080/"
        },
        "id": "sVeil_WAiIXJ",
        "outputId": "39ecdeae-7021-4e14-afac-09f7cf35de0b"
      },
      "execution_count": 8,
      "outputs": [
        {
          "output_type": "stream",
          "name": "stdout",
          "text": [
            "[10, 2, 3, 4]\n",
            "(1, 2, 3, 4)\n"
          ]
        }
      ]
    },
    {
      "cell_type": "code",
      "source": [
        "# 6. demonstrate mutable & immutable arguments\n",
        "def modify_list(lst):\n",
        "    lst.append(4)\n",
        "my_list =[1,2,3]\n",
        "modify_list(my_list)\n",
        "print(my_list)"
      ],
      "metadata": {
        "colab": {
          "base_uri": "https://localhost:8080/"
        },
        "id": "9g1AnmcWjXrd",
        "outputId": "63170f19-53aa-4be2-e3d0-064ce2dbdcb3"
      },
      "execution_count": 9,
      "outputs": [
        {
          "output_type": "stream",
          "name": "stdout",
          "text": [
            "[1, 2, 3, 4]\n"
          ]
        }
      ]
    },
    {
      "cell_type": "code",
      "source": [
        "# 7. basic arithmetic operation\n",
        " def add(a,b):\n",
        "    return a+b\n",
        "def sub(a,b):\n",
        "    return a-b\n",
        "def mul(a,b):\n",
        "    return a*b\n",
        "def div(a,b):\n",
        "    return a/b"
      ],
      "metadata": {
        "colab": {
          "base_uri": "https://localhost:8080/",
          "height": 106
        },
        "id": "PHf_hxe4j0kJ",
        "outputId": "9a26e378-f929-44b1-ff1e-ae8232f59acc"
      },
      "execution_count": 25,
      "outputs": [
        {
          "output_type": "error",
          "ename": "IndentationError",
          "evalue": "unexpected indent (ipython-input-583735542.py, line 2)",
          "traceback": [
            "\u001b[0;36m  File \u001b[0;32m\"/tmp/ipython-input-583735542.py\"\u001b[0;36m, line \u001b[0;32m2\u001b[0m\n\u001b[0;31m    def add(a,b):\u001b[0m\n\u001b[0m    ^\u001b[0m\n\u001b[0;31mIndentationError\u001b[0m\u001b[0;31m:\u001b[0m unexpected indent\n"
          ]
        }
      ]
    },
    {
      "cell_type": "code",
      "source": [
        "# 8.demonstrate logical operators\n",
        "a= True\n",
        "b= False\n",
        "print(f\"a and b:{ a and b}\")\n",
        "print(f\"a or b:{a or b}\")\n",
        "print(f\"not a:{not a}\")\n"
      ],
      "metadata": {
        "colab": {
          "base_uri": "https://localhost:8080/"
        },
        "id": "w34FSaXUlnYr",
        "outputId": "932db724-685a-4be0-d879-ebe26ee6621f"
      },
      "execution_count": 16,
      "outputs": [
        {
          "output_type": "stream",
          "name": "stdout",
          "text": [
            "a and b:False\n",
            "a or b:True\n",
            "not a:False\n"
          ]
        }
      ]
    },
    {
      "cell_type": "code",
      "source": [
        "# 9.convert user input to different types\n",
        "user_input =input(\"enter a number :\")\n",
        "num =int(user_input)\n",
        "print(num)"
      ],
      "metadata": {
        "colab": {
          "base_uri": "https://localhost:8080/"
        },
        "id": "aVGCMHX7mLZJ",
        "outputId": "3c64137c-c450-423d-c904-425c69316f4b"
      },
      "execution_count": 18,
      "outputs": [
        {
          "output_type": "stream",
          "name": "stdout",
          "text": [
            "enter a number :2\n",
            "2\n"
          ]
        }
      ]
    },
    {
      "cell_type": "code",
      "source": [
        "# 10.typecasting with list element\n",
        "my_list =['1','2.5','3']\n",
        "print(f\"Int: {[int(x) for x in my_list if x.isdigit()]}\")\n",
        "print(f\"Float: {[float(x) for x in my_list]}\")"
      ],
      "metadata": {
        "colab": {
          "base_uri": "https://localhost:8080/"
        },
        "id": "b9T-PwJ6nrac",
        "outputId": "d9725066-7faa-4249-d010-f42fbfd5996c"
      },
      "execution_count": 19,
      "outputs": [
        {
          "output_type": "stream",
          "name": "stdout",
          "text": [
            "Int: [1, 3]\n",
            "Float: [1.0, 2.5, 3.0]\n"
          ]
        }
      ]
    },
    {
      "cell_type": "code",
      "source": [
        "# 11.check if a number is positive negative or zero\n",
        "\n",
        "num =float(input(\"enter number :\"))\n",
        "if num>0:\n",
        "    print(\"positive\")\n",
        "elif num<0:\n",
        "    print(\"negative\")\n",
        "else:\n",
        "    print(\"zero\")"
      ],
      "metadata": {
        "colab": {
          "base_uri": "https://localhost:8080/"
        },
        "id": "MapswrUIoon3",
        "outputId": "d438f292-4aaa-49b5-fc45-71c1fb58c100"
      },
      "execution_count": 20,
      "outputs": [
        {
          "output_type": "stream",
          "name": "stdout",
          "text": [
            "enter number :-1\n",
            "negative\n"
          ]
        }
      ]
    },
    {
      "cell_type": "code",
      "source": [
        "#12. print numbers 1 to 10\n",
        "for i in range(1,11):\n",
        "  print(i)"
      ],
      "metadata": {
        "colab": {
          "base_uri": "https://localhost:8080/"
        },
        "id": "Ook5kFdqpDND",
        "outputId": "ad592239-2896-44a4-ece5-5cc59a9facdc"
      },
      "execution_count": 21,
      "outputs": [
        {
          "output_type": "stream",
          "name": "stdout",
          "text": [
            "1\n",
            "2\n",
            "3\n",
            "4\n",
            "5\n",
            "6\n",
            "7\n",
            "8\n",
            "9\n",
            "10\n"
          ]
        }
      ]
    },
    {
      "cell_type": "code",
      "source": [
        "# 13. sum of even number bwtween 1 to 50\n",
        "sum_even =sum(i for i in range(1,51) if i%2==0)\n",
        "print(sum_even)"
      ],
      "metadata": {
        "colab": {
          "base_uri": "https://localhost:8080/"
        },
        "id": "sqd0BhznpT_3",
        "outputId": "6b581354-8a25-4af6-87a8-f9393813ea4d"
      },
      "execution_count": 22,
      "outputs": [
        {
          "output_type": "stream",
          "name": "stdout",
          "text": [
            "650\n"
          ]
        }
      ]
    },
    {
      "cell_type": "code",
      "source": [
        "# 14. reverse a string using a while loop\n",
        " unable to do this please can you explain"
      ],
      "metadata": {
        "id": "UsBagfMUp4-c"
      },
      "execution_count": null,
      "outputs": []
    },
    {
      "cell_type": "code",
      "source": [
        "# 15. calculate factorial using while loop\n",
        "num =int(input(\"enter a number :\"))\n",
        "fact =1\n",
        "while num>1:\n",
        "  fact*=num\n",
        "  num-=1\n",
        "print(fact)"
      ],
      "metadata": {
        "colab": {
          "base_uri": "https://localhost:8080/"
        },
        "id": "6HU0sUJkqyAY",
        "outputId": "4e2ed60e-f340-4f85-9ce9-346b69824cc6"
      },
      "execution_count": 24,
      "outputs": [
        {
          "output_type": "stream",
          "name": "stdout",
          "text": [
            "enter a number :25\n",
            "15511210043330985984000000\n"
          ]
        }
      ]
    }
  ]
}